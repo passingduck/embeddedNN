{
 "cells": [
  {
   "cell_type": "code",
   "execution_count": 9,
   "id": "11c32e84-25cc-47b1-af0b-d53f8fe0768a",
   "metadata": {},
   "outputs": [],
   "source": [
    "import tensorflow as tf\n",
    "import tensorflow_datasets as tfds\n",
    "\n",
    "import numpy as np"
   ]
  },
  {
   "cell_type": "code",
   "execution_count": 10,
   "id": "2a1a22f8-d6a8-448d-97d7-a5015df5d03b",
   "metadata": {},
   "outputs": [],
   "source": [
    "(ds_train, ds_test), ds_info = tfds.load(\n",
    "    'mnist',\n",
    "    split=['train', 'test'],\n",
    "    shuffle_files=True,\n",
    "    as_supervised=True,\n",
    "    with_info=True,\n",
    ")"
   ]
  },
  {
   "cell_type": "code",
   "execution_count": 11,
   "id": "c522d073-773f-4e52-96b7-5d8d3f8ce10d",
   "metadata": {},
   "outputs": [],
   "source": [
    "def normalize_img(image, label):\n",
    "  \"\"\"Normalizes images: `uint8` -> `float32`.\"\"\"\n",
    "  return tf.cast(image, tf.float32) / 255., label\n",
    "\n",
    "ds_train = ds_train.map(\n",
    "    normalize_img, num_parallel_calls=tf.data.AUTOTUNE)\n",
    "ds_train = ds_train.cache()\n",
    "ds_train = ds_train.shuffle(ds_info.splits['train'].num_examples)\n",
    "ds_train = ds_train.batch(128)\n",
    "ds_train = ds_train.prefetch(tf.data.AUTOTUNE)"
   ]
  },
  {
   "cell_type": "code",
   "execution_count": 12,
   "id": "548b11eb-b8f2-4c59-882f-7917792db518",
   "metadata": {},
   "outputs": [],
   "source": [
    "ds_test = ds_test.map(\n",
    "    normalize_img, num_parallel_calls=tf.data.AUTOTUNE)\n",
    "ds_test = ds_test.batch(128)\n",
    "ds_test = ds_test.cache()\n",
    "ds_test = ds_test.prefetch(tf.data.AUTOTUNE)"
   ]
  },
  {
   "cell_type": "code",
   "execution_count": 13,
   "id": "9df005bd-e908-44ce-9d11-3235d89e6b08",
   "metadata": {},
   "outputs": [
    {
     "name": "stdout",
     "output_type": "stream",
     "text": [
      "Epoch 1/6\n",
      "469/469 [==============================] - 1s 1ms/step - loss: 0.4812 - sparse_categorical_accuracy: 0.8701 - val_loss: 0.2664 - val_sparse_categorical_accuracy: 0.9228\n",
      "Epoch 2/6\n",
      "469/469 [==============================] - 1s 1ms/step - loss: 0.2410 - sparse_categorical_accuracy: 0.9316 - val_loss: 0.2145 - val_sparse_categorical_accuracy: 0.9377\n",
      "Epoch 3/6\n",
      "469/469 [==============================] - 1s 1ms/step - loss: 0.1977 - sparse_categorical_accuracy: 0.9433 - val_loss: 0.1838 - val_sparse_categorical_accuracy: 0.9464\n",
      "Epoch 4/6\n",
      "469/469 [==============================] - 1s 3ms/step - loss: 0.1705 - sparse_categorical_accuracy: 0.9506 - val_loss: 0.1627 - val_sparse_categorical_accuracy: 0.9527\n",
      "Epoch 5/6\n",
      "469/469 [==============================] - 0s 778us/step - loss: 0.1492 - sparse_categorical_accuracy: 0.9564 - val_loss: 0.1497 - val_sparse_categorical_accuracy: 0.9568\n",
      "Epoch 6/6\n",
      "469/469 [==============================] - 1s 2ms/step - loss: 0.1344 - sparse_categorical_accuracy: 0.9611 - val_loss: 0.1384 - val_sparse_categorical_accuracy: 0.9603\n"
     ]
    },
    {
     "data": {
      "text/plain": [
       "<keras.src.callbacks.History at 0x7172b8078670>"
      ]
     },
     "execution_count": 13,
     "metadata": {},
     "output_type": "execute_result"
    }
   ],
   "source": [
    "model = tf.keras.models.Sequential([\n",
    "  tf.keras.layers.Flatten(input_shape=(28, 28)),\n",
    "  tf.keras.layers.Dense(32, activation='relu'),\n",
    "  tf.keras.layers.Dense(10)\n",
    "])\n",
    "model.compile(\n",
    "    optimizer=tf.keras.optimizers.Adam(0.001),\n",
    "    loss=tf.keras.losses.SparseCategoricalCrossentropy(from_logits=True),\n",
    "    metrics=[tf.keras.metrics.SparseCategoricalAccuracy()],\n",
    ")\n",
    "\n",
    "model.fit(\n",
    "    ds_train,\n",
    "    epochs=6,\n",
    "    validation_data=ds_test,\n",
    ")"
   ]
  },
  {
   "cell_type": "code",
   "execution_count": 24,
   "id": "3e16b7be-175e-4d2a-9e35-f3d59e6dd0dd",
   "metadata": {},
   "outputs": [],
   "source": [
    "def generate_weights_header(model, file_path):\n",
    "    with open(file_path, 'w') as file:\n",
    "        file.write(\"#ifndef WEIGHTS_H\\n\")\n",
    "        file.write(\"#define WEIGHTS_H\\n\\n\")\n",
    "\n",
    "        for layer in model.layers:\n",
    "            if \"dense\" in layer.name:\n",
    "                weights = layer.get_weights()\n",
    "                input_size, output_size = weights[0].shape\n",
    "                \n",
    "                \n",
    "                file.write(f\"const float {layer.name}_weights[{input_size}][{output_size}] = {{\\n\")\n",
    "                for row in weights[0]:\n",
    "                    file.write(\"    {\")\n",
    "                    file.write(\", \".join(str(val) for val in row))\n",
    "                    file.write(\"},\\n\")\n",
    "                file.write(\"};\\n\\n\")\n",
    "                \n",
    "                file.write(f\"const float {layer.name}_bias[{output_size}] = {{\\n\")\n",
    "                file.write(\", \".join(str(val) for val in weights[1]))\n",
    "                file.write(\"};\\n\\n\")\n",
    "\n",
    "        file.write(\"#endif  // WEIGHTS_H\\n\")"
   ]
  },
  {
   "cell_type": "code",
   "execution_count": 25,
   "id": "12327185-3cde-49b1-90ac-9e22baca404a",
   "metadata": {},
   "outputs": [],
   "source": [
    "generate_weights_header(model, '/home/sungjin/workspace/MLP_MNIST/weights.h')"
   ]
  },
  {
   "cell_type": "code",
   "execution_count": null,
   "id": "522f0abe-6731-451e-825f-4a1ae3c6ea2e",
   "metadata": {},
   "outputs": [],
   "source": []
  }
 ],
 "metadata": {
  "kernelspec": {
   "display_name": "Python 3 (ipykernel)",
   "language": "python",
   "name": "python3"
  },
  "language_info": {
   "codemirror_mode": {
    "name": "ipython",
    "version": 3
   },
   "file_extension": ".py",
   "mimetype": "text/x-python",
   "name": "python",
   "nbconvert_exporter": "python",
   "pygments_lexer": "ipython3",
   "version": "3.10.14"
  }
 },
 "nbformat": 4,
 "nbformat_minor": 5
}
